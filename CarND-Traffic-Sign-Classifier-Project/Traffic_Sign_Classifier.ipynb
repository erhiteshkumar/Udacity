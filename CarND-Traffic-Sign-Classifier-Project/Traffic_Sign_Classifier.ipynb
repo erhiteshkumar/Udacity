{
 "cells": [
  {
   "cell_type": "markdown",
   "metadata": {},
   "source": [
    "# Self-Driving Car Engineer Nanodegree\n",
    "\n",
    "## Deep Learning\n",
    "\n",
    "## Project: Build a Traffic Sign Recognition Classifier\n",
    "\n",
    "In this notebook, a template is provided for you to implement your functionality in stages, which is required to successfully complete this project. If additional code is required that cannot be included in the notebook, be sure that the Python code is successfully imported and included in your submission if necessary. \n",
    "\n",
    "> **Note**: Once you have completed all of the code implementations, you need to finalize your work by exporting the iPython Notebook as an HTML document. Before exporting the notebook to html, all of the code cells need to have been run so that reviewers can see the final implementation and output. You can then export the notebook by using the menu above and navigating to  \\n\",\n",
    "    \"**File -> Download as -> HTML (.html)**. Include the finished document along with this notebook as your submission. \n",
    "\n",
    "In addition to implementing code, there is a writeup to complete. The writeup should be completed in a separate file, which can be either a markdown file or a pdf document. There is a [write up template](https://github.com/udacity/CarND-Traffic-Sign-Classifier-Project/blob/master/writeup_template.md) that can be used to guide the writing process. Completing the code template and writeup template will cover all of the [rubric points](https://review.udacity.com/#!/rubrics/481/view) for this project.\n",
    "\n",
    "The [rubric](https://review.udacity.com/#!/rubrics/481/view) contains \"Stand Out Suggestions\" for enhancing the project beyond the minimum requirements. The stand out suggestions are optional. If you decide to pursue the \"stand out suggestions\", you can include the code in this Ipython notebook and also discuss the results in the writeup file.\n",
    "\n",
    "\n",
    ">**Note:** Code and Markdown cells can be executed using the **Shift + Enter** keyboard shortcut. In addition, Markdown cells can be edited by typically double-clicking the cell to enter edit mode."
   ]
  },
  {
   "cell_type": "markdown",
   "metadata": {},
   "source": [
    "---\n",
    "## Step 0: Load The Data"
   ]
  },
  {
   "cell_type": "code",
   "execution_count": 1,
   "metadata": {
    "collapsed": false
   },
   "outputs": [
    {
     "name": "stdout",
     "output_type": "stream",
     "text": [
      "Data loaded successfully.\n"
     ]
    }
   ],
   "source": [
    "# Load pickled data\n",
    "import pickle\n",
    "\n",
    "# TODO: Fill this in based on where you saved the training and testing data\n",
    "\n",
    "training_file = \"./traffic-signs-data/train.p\"\n",
    "validation_file=\"./traffic-signs-data/valid.p\"\n",
    "testing_file = \"./traffic-signs-data/test.p\"\n",
    "\n",
    "with open(training_file, mode='rb') as f:\n",
    "    train = pickle.load(f)\n",
    "with open(validation_file, mode='rb') as f:\n",
    "    valid = pickle.load(f)\n",
    "with open(testing_file, mode='rb') as f:\n",
    "    test = pickle.load(f)\n",
    "    \n",
    "X_train, y_train = train['features'], train['labels']\n",
    "X_valid, y_valid = valid['features'], valid['labels']\n",
    "X_test, y_test = test['features'], test['labels']\n",
    "\n",
    "print('Data loaded successfully.')"
   ]
  },
  {
   "cell_type": "markdown",
   "metadata": {},
   "source": [
    "---\n",
    "\n",
    "## Step 1: Dataset Summary & Exploration\n",
    "\n",
    "The pickled data is a dictionary with 4 key/value pairs:\n",
    "\n",
    "- `'features'` is a 4D array containing raw pixel data of the traffic sign images, (num examples, width, height, channels).\n",
    "- `'labels'` is a 1D array containing the label/class id of the traffic sign. The file `signnames.csv` contains id -> name mappings for each id.\n",
    "- `'sizes'` is a list containing tuples, (width, height) representing the the original width and height the image.\n",
    "- `'coords'` is a list containing tuples, (x1, y1, x2, y2) representing coordinates of a bounding box around the sign in the image. **THESE COORDINATES ASSUME THE ORIGINAL IMAGE. THE PICKLED DATA CONTAINS RESIZED VERSIONS (32 by 32) OF THESE IMAGES**\n",
    "\n",
    "Complete the basic data summary below. Use python, numpy and/or pandas methods to calculate the data summary rather than hard coding the results. For example, the [pandas shape method](http://pandas.pydata.org/pandas-docs/stable/generated/pandas.DataFrame.shape.html) might be useful for calculating some of the summary results. "
   ]
  },
  {
   "cell_type": "markdown",
   "metadata": {},
   "source": [
    "### Provide a Basic Summary of the Data Set Using Python, Numpy and/or Pandas"
   ]
  },
  {
   "cell_type": "code",
   "execution_count": 2,
   "metadata": {
    "collapsed": false
   },
   "outputs": [
    {
     "name": "stdout",
     "output_type": "stream",
     "text": [
      "Number of training examples = 39209\n",
      "Number of testing examples = 12630\n",
      "Image data shape = (32, 32)\n",
      "Number of classes = 43\n"
     ]
    }
   ],
   "source": [
    "### Replace each question mark with the appropriate value. \n",
    "### Use python, pandas or numpy methods rather than hard coding the results\n",
    "import numpy as np\n",
    "\n",
    "# TODO: Number of training examples\n",
    "n_train = X_train.shape[0]\n",
    "\n",
    "# TODO: Number of testing examples.\n",
    "n_test = X_test.shape[0]\n",
    "\n",
    "# TODO: What's the shape of an traffic sign image?\n",
    "image_shape = (X_train.shape[1], X_train.shape[2])\n",
    "\n",
    "# TODO: How many unique classes/labels there are in the dataset.\n",
    "n_classes = len(np.unique(y_train))\n",
    "\n",
    "print(\"Number of training examples =\", n_train)\n",
    "print(\"Number of testing examples =\", n_test)\n",
    "print(\"Image data shape =\", image_shape)\n",
    "print(\"Number of classes =\", n_classes)"
   ]
  },
  {
   "cell_type": "markdown",
   "metadata": {},
   "source": [
    "### Include an exploratory visualization of the dataset"
   ]
  },
  {
   "cell_type": "markdown",
   "metadata": {},
   "source": [
    "Visualize the German Traffic Signs Dataset using the pickled file(s). This is open ended, suggestions include: plotting traffic sign images, plotting the count of each sign, etc.\n",
    "\n",
    "The [Matplotlib](http://matplotlib.org/) [examples](http://matplotlib.org/examples/index.html) and [gallery](http://matplotlib.org/gallery.html) pages are a great resource for doing visualizations in Python.\n",
    "\n",
    "**NOTE:** It's recommended you start with something simple first. If you wish to do more, come back to it after you've completed the rest of the sections."
   ]
  },
  {
   "cell_type": "code",
   "execution_count": 3,
   "metadata": {
    "collapsed": false
   },
   "outputs": [
    {
     "name": "stdout",
     "output_type": "stream",
     "text": [
      "10\n"
     ]
    },
    {
     "data": {
      "image/png": "[encoded data removed]",
      "text/plain": [
       "<matplotlib.figure.Figure at 0x104e30cc0>"
      ]
     },
     "metadata": {},
     "output_type": "display_data"
    }
   ],
   "source": [
    "### Data exploration visualization code goes here.\n",
    "### Feel free to use as many code cells as needed.\n",
    "import matplotlib.pyplot as plt\n",
    "import random\n",
    "# Visualizations will be shown in the notebook.\n",
    "%matplotlib inline\n",
    "\n",
    "#Getting random index fron traing dataset\n",
    "index = random.randint(0, len(X_train))\n",
    "image = X_train[index].squeeze()\n",
    "\n",
    "plt.figure(figsize=(1,1))\n",
    "plt.imshow(image, cmap=\"gray\")\n",
    "print(y_train[index])"
   ]
  },
  {
   "cell_type": "code",
   "execution_count": 4,
   "metadata": {
    "collapsed": false,
    "scrolled": false
   },
   "outputs": [
    {
     "data": {
      "image/png": "[encoded data removed]",
      "text/plain": [
       "<matplotlib.figure.Figure at 0x104e30b70>"
      ]
     },
     "metadata": {},
     "output_type": "display_data"
    }
   ],
   "source": [
    "# Ploting image type distribution\n",
    "def plot_histogram():\n",
    "    histogram, bins = np.histogram(y_train, bins=n_classes)\n",
    "    width =  (bins[1] - bins[0])\n",
    "    center = (bins[:-1] + bins[1:]) / 2\n",
    "    plt.bar(center, histogram, align='center', width=width)\n",
    "    plt.ylabel('No. of examples')\n",
    "    plt.xlabel('Class')\n",
    "    plt.title('Num Per Class')\n",
    "    plt.show()\n",
    "    \n",
    "plot_histogram()"
   ]
  },
  {
   "cell_type": "markdown",
   "metadata": {},
   "source": [
    "----\n",
    "\n",
    "## Step 2: Design and Test a Model Architecture\n",
    "\n",
    "Design and implement a deep learning model that learns to recognize traffic signs. Train and test your model on the [German Traffic Sign Dataset](http://benchmark.ini.rub.de/?section=gtsrb&subsection=dataset).\n",
    "\n",
    "There are various aspects to consider when thinking about this problem:\n",
    "\n",
    "- Neural network architecture\n",
    "- Play around preprocessing techniques (normalization, rgb to grayscale, etc)\n",
    "- Number of examples per label (some have more than others).\n",
    "- Generate fake data.\n",
    "\n",
    "Here is an example of a [published baseline model on this problem](http://yann.lecun.com/exdb/publis/pdf/sermanet-ijcnn-11.pdf). It's not required to be familiar with the approach used in the paper but, it's good practice to try to read papers like these.\n",
    "\n",
    "**NOTE:** The LeNet-5 implementation shown in the [classroom](https://classroom.udacity.com/nanodegrees/nd013/parts/fbf77062-5703-404e-b60c-95b78b2f3f9e/modules/6df7ae49-c61c-4bb2-a23e-6527e69209ec/lessons/601ae704-1035-4287-8b11-e2c2716217ad/concepts/d4aca031-508f-4e0b-b493-e7b706120f81) at the end of the CNN lesson is a solid starting point. You'll have to change the number of classes and possibly the preprocessing, but aside from that it's plug and play!"
   ]
  },
  {
   "cell_type": "markdown",
   "metadata": {},
   "source": [
    "### Question 1\n",
    "\n",
    "Describe how you preprocessed the data. Why did you choose that technique?\n",
    "\n",
    "**Answer:**\n",
    "\n",
    "**Step1:** Convert to grayscale. Reasons are: \n",
    "a. Color increases complexity of model, like it acts signal to noise and increase code complexity \n",
    "b. Less training time \n",
    "\n",
    "**Step2:** Normalize the train and test datasets between 0.1-0.9 as described in normalization intro lessons keep training values close to 0 gives better numerical stability and keeps the optimizer from having to do a lot of searching to find the solution\n"
   ]
  },
  {
   "cell_type": "markdown",
   "metadata": {},
   "source": [
    "Use the code cell (or multiple code cells, if necessary) to implement the first step of your project."
   ]
  },
  {
   "cell_type": "code",
   "execution_count": 5,
   "metadata": {
    "collapsed": true
   },
   "outputs": [],
   "source": [
    "### Preprocess the data here. Preprocessing steps could include normalization, converting to grayscale, etc.\n",
    "### Feel free to use as many code cells as needed."
   ]
  },
  {
   "cell_type": "code",
   "execution_count": 6,
   "metadata": {
    "collapsed": false
   },
   "outputs": [],
   "source": [
    "### Grayscale the images\n",
    "import cv2\n",
    "def grayscale(img):\n",
    "    return cv2.cvtColor(img, cv2.COLOR_BGR2GRAY)\n",
    "\n",
    "def grayscale_features(dataset_, num_samples_, image_shape_):\n",
    "    gray = np.empty([num_samples_, image_shape_[0], image_shape_[1]], dtype=dataset_.dtype)\n",
    "    for index in range(0, num_samples_):\n",
    "        gray[index,:,:] = grayscale(dataset_[index,:,:,:])    \n",
    "    return gray\n",
    "\n",
    "### Image data normalization ####\n",
    "def normalize_features(imgages):\n",
    "    #change type to np.float32 to accomodate negative numbers\n",
    "    normalized = (images.astype(np.float32) - 128)/128    \n",
    "    return normalized\n",
    "\n",
    "def normalize_features_pos(img_):\n",
    "    \"\"\"\n",
    "    Normalize the image data with Min-Max scaling to a range of [0.1, 0.9]\n",
    "    :param image_data: The image data to be normalized\n",
    "    :return: Normalized image data\n",
    "    \"\"\"\n",
    "    out_min = 0.1\n",
    "    out_max = 0.9\n",
    "    greyscale_min = 0\n",
    "    greyscale_max = 255\n",
    "    \n",
    "    slope = (out_max - out_min)/( greyscale_max - greyscale_min )\n",
    "    b = out_min\n",
    "    return slope*(img_.astype(np.float32) - greyscale_min) + out_min\n",
    "\n"
   ]
  },
  {
   "cell_type": "code",
   "execution_count": 7,
   "metadata": {
    "collapsed": false
   },
   "outputs": [],
   "source": [
    "### Preprocess the data\n",
    "### Step1: Convert to grayscale\n",
    "### Reasons:\n",
    "### a. Color increases complexity of model, like it acts signal to noise and increase code complexity\n",
    "### b. Less training time\n",
    "\n",
    "X_train_rgb = X_train\n",
    "X_train_gry = np.sum(X_train/3, axis=3, keepdims=True) #grayscale_features(X_train, n_train, image_shape)\n",
    "X_train = X_train_gry;\n",
    "\n",
    "X_test_rgb = X_test\n",
    "X_test_gry = np.sum(X_test/3, axis=3, keepdims=True) #grayscale_features(X_test, n_test, image_shape)\n",
    "X_test = X_test_gry"
   ]
  },
  {
   "cell_type": "code",
   "execution_count": 8,
   "metadata": {
    "collapsed": false
   },
   "outputs": [
    {
     "name": "stdout",
     "output_type": "stream",
     "text": [
      "-0.346366778547\n",
      "-0.350402653428\n"
     ]
    }
   ],
   "source": [
    "### Preprocess the data\n",
    "### Step2: Normalize the train and test datasets\n",
    "\n",
    "X_train_normalized = normalize_features_pos(X_train_gry) \n",
    "X_test_normalized = normalize_features_pos(X_test_gry)\n",
    "\n",
    "print(np.mean(X_train_normalized))\n",
    "print(np.mean(X_test_normalized))"
   ]
  },
  {
   "cell_type": "code",
   "execution_count": 9,
   "metadata": {
    "collapsed": false
   },
   "outputs": [
    {
     "name": "stdout",
     "output_type": "stream",
     "text": [
      "Old training set size: 39209\n",
      "New training set size: 33249\n",
      "X_validation size: 5960\n"
     ]
    }
   ],
   "source": [
    "from sklearn.utils import shuffle\n",
    "\n",
    "X_train_normalized, y_train = shuffle(X_train_normalized, y_train)\n",
    "from sklearn.model_selection import train_test_split\n",
    "\n",
    "## Number of adjustable params = 42. validation test size = 1/sqrt(42)\n",
    "## Source: http://stackoverflow.com/questions/13610074/is-there-a-rule-of-thumb-for-how-to-divide-a-dataset-into-training-and-validatio\n",
    "X_train, X_validation, y_train, y_validation = train_test_split(X_train_normalized, y_train, \n",
    "                                                                test_size=0.152, random_state=0)\n",
    "print(\"Old training set size:\",len(X_train_normalized))\n",
    "print(\"New training set size:\",len(X_train))\n",
    "print(\"X_validation size:\",len(X_validation))"
   ]
  },
  {
   "cell_type": "markdown",
   "metadata": {},
   "source": [
    "### Question 2\n",
    "Describe how you set up the training, validation and testing data for your model. Optional: If you generated additional data, how did you generate the data? Why did you generate the data? What are the differences in the new dataset (with generated data) from the original dataset?\n",
    "\n",
    "**Answer:**\n",
    "\n",
    "I have created validation set out of the training set. I used 15.2% of the testing set to create the validation set.\n",
    "\n",
    "**Logic:**\n",
    "I have 43 adjustable parameters, the square root of 43 is ~6.55, the fraction should be 1/6.55 or 0.152. Roughly 15% should is reserved for validation and 85% for training.\n",
    "\n",
    "\n",
    "### Question 3\n",
    "What does your final architecture look like? (Type of model, layers, sizes, connectivity, etc.) For reference on how to build a deep neural network using TensorFlow, see [Deep Neural Network in TensorFlow](https://classroom.udacity.com/nanodegrees/nd013/parts/fbf77062-5703-404e-b60c-95b78b2f3f9e/modules/6df7ae49-c61c-4bb2-a23e-6527e69209ec/lessons/b516a270-8600-4f93-a0a3-20dfeabe5da6/concepts/83a3a2a2-a9bd-4b7b-95b0-eb924ab14432) from the classroom.\n",
    "\n",
    "**Architecture**\n",
    "\n",
    "Following the link given I used Sermanet/LeCun architecture with few modifications. Also the filters are similar to LeNet architecture which was part of lab. I added one more extra Fully connected layer instead of directly converting 800 to 43(labels)\n",
    "**Layer 1:** Convolutional. 5x5 convolution. 32x32x1 -> 28x28x6\n",
    "\n",
    "**Activation.** ReLu\n",
    "\n",
    "**Pooling.** 2x2 Pooling which converts 28x28x6 -> 14x14x6\n",
    "\n",
    "**Layer 2:** Convolutional. 5x5 convolution. 14x14x6 -> 10x10x16\n",
    "\n",
    "**Activation.** ReLu \n",
    "\n",
    "**Pooling.** 2x2 Pooling which converts 10x10x16 -> 5x5x16\n",
    "\n",
    "**Layer 3:** Convolutional. 5x5 convolution. 5x5x16 -> 1x1x400\n",
    "\n",
    "**Activation.** ReLu \n",
    "\n",
    "**Concatenation.** Flatten Concatenate Layer2 and Layer3 output. output 800 \n",
    "\n",
    "**Dropout.** Dropout with dropout rate of 0.5 \n",
    "\n",
    "**FC Layer 1:** Fully connected. 800 (input) -> 240 (output) \n",
    "\n",
    "**Activation.** ReLu \n",
    "\n",
    "**Dropout.** Dropout with dropout rate of 0.5 \n",
    "\n",
    "**FC Layer 2:** Fully connected. 240 (input) -> 43 (output) \n",
    "\n",
    "return logits (of FC Layer output) \n"
   ]
  },
  {
   "cell_type": "markdown",
   "metadata": {},
   "source": [
    "### Pre-process the Data Set (normalization, grayscale, etc.)"
   ]
  },
  {
   "cell_type": "markdown",
   "metadata": {},
   "source": [
    "### Model Architecture"
   ]
  },
  {
   "cell_type": "code",
   "execution_count": 10,
   "metadata": {
    "collapsed": true
   },
   "outputs": [],
   "source": [
    "### Define your architecture here.\n",
    "### Feel free to use as many code cells as needed.\n",
    "import tensorflow as tf\n",
    "\n",
    "EPOCHS = 90\n",
    "BATCH_SIZE = 128\n",
    "\n",
    "mu = 0\n",
    "sigma = 0.1\n",
    "       \n",
    "weights = {\n",
    "    'wc1': tf.Variable(tf.truncated_normal(shape=(5, 5, 1, 6), mean = mu, stddev = sigma)),\n",
    "    'wc2': tf.Variable(tf.truncated_normal(shape=(5, 5, 6, 16), mean = mu, stddev = sigma)),\n",
    "    'wc3': tf.Variable(tf.truncated_normal(shape=(5, 5, 16, 400), mean = mu, stddev = sigma)),\n",
    "    'wd1': tf.Variable(tf.truncated_normal(shape=(800, 240), mean = mu, stddev = sigma)),\n",
    "    'out': tf.Variable(tf.truncated_normal(shape=(240, 43), mean = mu, stddev = sigma))\n",
    "}\n",
    "\n",
    "biases = {\n",
    "    'bc1': tf.Variable(tf.random_normal([6])),\n",
    "    'bc2': tf.Variable(tf.random_normal([16])),\n",
    "    'bc3': tf.Variable(tf.random_normal([400])),\n",
    "    'bd1': tf.Variable(tf.random_normal([240])),\n",
    "    'out': tf.Variable(tf.random_normal([43]))\n",
    "}"
   ]
  },
  {
   "cell_type": "markdown",
   "metadata": {},
   "source": [
    "### Train, Validate and Test the Model"
   ]
  },
  {
   "cell_type": "code",
   "execution_count": 11,
   "metadata": {
    "collapsed": true
   },
   "outputs": [],
   "source": [
    "def conv2d(x, W, b, strides=1):\n",
    "    x = tf.nn.conv2d(x, W, strides=[1, strides, strides, 1], padding='VALID')\n",
    "    x = tf.nn.bias_add(x, b)\n",
    "    return x\n",
    "\n",
    "def maxpool2d(x, k=2):\n",
    "    return tf.nn.max_pool(\n",
    "        x,\n",
    "        ksize=[1, k, k, 1],\n",
    "        strides=[1, k, k, 1],\n",
    "        padding='SAME')"
   ]
  },
  {
   "cell_type": "code",
   "execution_count": 12,
   "metadata": {
    "collapsed": false
   },
   "outputs": [],
   "source": [
    "from tensorflow.contrib.layers import flatten\n",
    "\n",
    "def LeNet(x): \n",
    "    \n",
    "    # Layer 1: Convolutional. Input = 32x32x1. Output = 28x28x6.\n",
    "    conv1 = conv2d(x, weights['wc1'], biases['bc1'])\n",
    "    # Activation.\n",
    "    conv1 = tf.nn.relu(conv1)\n",
    "    # Pooling. Input = 28x28x6. Output = 14x14x6.\n",
    "    conv1 = maxpool2d(conv1)\n",
    "    \n",
    "    # Layer 2: Convolutional. Output = 10x10x16.\n",
    "    conv2 = conv2d(conv1, weights['wc2'], biases['bc2'])\n",
    "    # Activation\n",
    "    conv2 = tf.nn.relu(conv2)\n",
    "    # Pooling Input = 10x10x16. Output = 5x5x16.\n",
    "    conv2 = maxpool2d(conv2)\n",
    "    \n",
    "    #Flatten. Input = 5x5x16. Output = 400.\n",
    "    conv3 = conv2d(conv2, weights['wc3'], biases['bc3'])\n",
    "    # Activation\n",
    "    conv3 = tf.nn.relu(conv3)\n",
    "    \n",
    "    # Concatenation: Concatenate Layer2 output 5x5x6(flatten it) and Layer3 output. output 800.\n",
    "    conv2 = flatten(conv2)\n",
    "    conv3 = flatten(conv3)\n",
    "    conv_concat = tf.concat_v2([conv2, conv3], 1)\n",
    "    \n",
    "    # Dropout\n",
    "    conv_concat = tf.nn.dropout(conv_concat, keep_prob)\n",
    "\n",
    "    # FC Layer 1: Fully Connected. Input = 800. Output = 240.\n",
    "    fc1 = tf.add(tf.matmul(conv_concat, weights['wd1']), biases['bd1'])\n",
    "    #Activation\n",
    "    fc1 = tf.nn.relu(fc1)\n",
    "    \n",
    "    # Dropout\n",
    "    fc1 = tf.nn.dropout(fc1, keep_prob)\n",
    "\n",
    "    # FC Layer 2: Fully Connected. Input = 240. Output = 43.\n",
    "    logits = tf.add(tf.matmul(fc1, weights['out']), biases['out'])\n",
    "    \n",
    "    return logits\n",
    "\n",
    "def get_conv2(x):\n",
    "    # Layer 1: Convolutional. Input = 32x32x1. Output = 28x28x6.\n",
    "    conv1 = conv2d(x, weights['wc1'], biases['bc1'])\n",
    "    # Activation.\n",
    "    conv1 = tf.nn.relu(conv1)\n",
    "    # Pooling. Input = 28x28x6. Output = 14x14x6.\n",
    "    conv1 = maxpool2d(conv1)\n",
    "    \n",
    "    # Layer 2: Convolutional. Output = 10x10x16.\n",
    "    conv2 = conv2d(conv1, weights['wc2'], biases['bc2'])\n",
    "    # Activation\n",
    "    conv2 = tf.nn.relu(conv2)\n",
    "    # Pooling Input = 10x10x16. Output = 5x5x16.\n",
    "    conv2 = maxpool2d(conv2)\n",
    "    conv2 = flatten(conv2)\n",
    "    return conv2"
   ]
  },
  {
   "cell_type": "markdown",
   "metadata": {},
   "source": [
    "A validation set can be used to assess how well the model is performing. A low accuracy on the training and validation\n",
    "sets imply underfitting. A high accuracy on the training set but low accuracy on the validation set implies overfitting."
   ]
  },
  {
   "cell_type": "code",
   "execution_count": 13,
   "metadata": {
    "collapsed": true
   },
   "outputs": [],
   "source": [
    "### Train your model here.\n",
    "### Calculate and report the accuracy on the training and validation set.\n",
    "### Once a final model architecture is selected, \n",
    "### the accuracy on the test set should be calculated and reported as well.\n",
    "### Feel free to use as many code cells as needed."
   ]
  },
  {
   "cell_type": "code",
   "execution_count": 14,
   "metadata": {
    "collapsed": false
   },
   "outputs": [],
   "source": [
    "x = tf.placeholder(tf.float32, (None, 32, 32, 1))\n",
    "y = tf.placeholder(tf.int32, (None))\n",
    "one_hot_y = tf.one_hot(y, 43)\n",
    "\n",
    "keep_prob = tf.placeholder(tf.float32)"
   ]
  },
  {
   "cell_type": "code",
   "execution_count": 15,
   "metadata": {
    "collapsed": false
   },
   "outputs": [],
   "source": [
    "###Training Pipeline###\n",
    "rate = 0.001\n",
    "\n",
    "logits = LeNet(x)\n",
    "cross_entropy = tf.nn.softmax_cross_entropy_with_logits(logits, one_hot_y)\n",
    "loss_operation = tf.reduce_mean(cross_entropy)\n",
    "optimizer = tf.train.AdamOptimizer(learning_rate = rate)\n",
    "training_operation = optimizer.minimize(loss_operation)"
   ]
  },
  {
   "cell_type": "code",
   "execution_count": 16,
   "metadata": {
    "collapsed": false
   },
   "outputs": [],
   "source": [
    "### Model Evaluation ###\n",
    "\n",
    "correct_prediction = tf.equal(tf.argmax(logits, 1), tf.argmax(one_hot_y, 1))\n",
    "accuracy_operation = tf.reduce_mean(tf.cast(correct_prediction, tf.float32))\n",
    "saver = tf.train.Saver()\n",
    "\n",
    "def evaluate(X_data, y_data):\n",
    "    num_examples = len(X_data)\n",
    "    total_accuracy = 0\n",
    "    sess = tf.get_default_session()\n",
    "    for offset in range(0, num_examples, BATCH_SIZE):\n",
    "        batch_x, batch_y = X_data[offset:offset+BATCH_SIZE], y_data[offset:offset+BATCH_SIZE]\n",
    "        accuracy = sess.run(accuracy_operation, feed_dict={x: batch_x, y: batch_y, keep_prob: 1.0})\n",
    "        total_accuracy += (accuracy * len(batch_x))\n",
    "    return total_accuracy / num_examples"
   ]
  },
  {
   "cell_type": "code",
   "execution_count": 17,
   "metadata": {
    "collapsed": true
   },
   "outputs": [],
   "source": [
    "### Training the Model ###"
   ]
  },
  {
   "cell_type": "code",
   "execution_count": 18,
   "metadata": {
    "collapsed": false
   },
   "outputs": [
    {
     "name": "stdout",
     "output_type": "stream",
     "text": [
      "Start Training...\n",
      "\n",
      "EPOCH 1 ...\n",
      "Validation Accuracy = 0.343\n",
      "\n",
      "EPOCH 2 ...\n",
      "Validation Accuracy = 0.777\n",
      "\n",
      "EPOCH 3 ...\n",
      "Validation Accuracy = 0.863\n",
      "\n",
      "EPOCH 4 ...\n",
      "Validation Accuracy = 0.918\n",
      "\n",
      "EPOCH 5 ...\n",
      "Validation Accuracy = 0.934\n",
      "\n",
      "EPOCH 6 ...\n",
      "Validation Accuracy = 0.949\n",
      "\n",
      "EPOCH 7 ...\n",
      "Validation Accuracy = 0.955\n",
      "\n",
      "EPOCH 8 ...\n",
      "Validation Accuracy = 0.966\n",
      "\n",
      "EPOCH 9 ...\n",
      "Validation Accuracy = 0.967\n",
      "\n",
      "EPOCH 10 ...\n",
      "Validation Accuracy = 0.975\n",
      "\n",
      "EPOCH 11 ...\n",
      "Validation Accuracy = 0.976\n",
      "\n",
      "EPOCH 12 ...\n",
      "Validation Accuracy = 0.981\n",
      "\n",
      "EPOCH 13 ...\n",
      "Validation Accuracy = 0.977\n",
      "\n",
      "EPOCH 14 ...\n",
      "Validation Accuracy = 0.984\n",
      "\n",
      "EPOCH 15 ...\n",
      "Validation Accuracy = 0.981\n",
      "\n",
      "EPOCH 16 ...\n",
      "Validation Accuracy = 0.983\n",
      "\n",
      "EPOCH 17 ...\n",
      "Validation Accuracy = 0.984\n",
      "\n",
      "EPOCH 18 ...\n",
      "Validation Accuracy = 0.981\n",
      "\n",
      "EPOCH 19 ...\n",
      "Validation Accuracy = 0.987\n",
      "\n",
      "EPOCH 20 ...\n",
      "Validation Accuracy = 0.985\n",
      "\n",
      "EPOCH 21 ...\n",
      "Validation Accuracy = 0.987\n",
      "\n",
      "EPOCH 22 ...\n",
      "Validation Accuracy = 0.989\n",
      "\n",
      "EPOCH 23 ...\n",
      "Validation Accuracy = 0.988\n",
      "\n",
      "EPOCH 24 ...\n",
      "Validation Accuracy = 0.987\n",
      "\n",
      "EPOCH 25 ...\n",
      "Validation Accuracy = 0.988\n",
      "\n",
      "EPOCH 26 ...\n",
      "Validation Accuracy = 0.990\n",
      "\n",
      "EPOCH 27 ...\n",
      "Validation Accuracy = 0.990\n",
      "\n",
      "EPOCH 28 ...\n",
      "Validation Accuracy = 0.989\n",
      "\n",
      "EPOCH 29 ...\n",
      "Validation Accuracy = 0.989\n",
      "\n",
      "EPOCH 30 ...\n",
      "Validation Accuracy = 0.990\n",
      "\n",
      "EPOCH 31 ...\n",
      "Validation Accuracy = 0.989\n",
      "\n",
      "EPOCH 32 ...\n",
      "Validation Accuracy = 0.990\n",
      "\n",
      "EPOCH 33 ...\n",
      "Validation Accuracy = 0.990\n",
      "\n",
      "EPOCH 34 ...\n",
      "Validation Accuracy = 0.991\n",
      "\n",
      "EPOCH 35 ...\n",
      "Validation Accuracy = 0.990\n",
      "\n",
      "EPOCH 36 ...\n",
      "Validation Accuracy = 0.991\n",
      "\n",
      "EPOCH 37 ...\n",
      "Validation Accuracy = 0.992\n",
      "\n",
      "EPOCH 38 ...\n",
      "Validation Accuracy = 0.991\n",
      "\n",
      "EPOCH 39 ...\n",
      "Validation Accuracy = 0.990\n",
      "\n",
      "EPOCH 40 ...\n",
      "Validation Accuracy = 0.991\n",
      "\n",
      "EPOCH 41 ...\n",
      "Validation Accuracy = 0.990\n",
      "\n",
      "EPOCH 42 ...\n",
      "Validation Accuracy = 0.991\n",
      "\n",
      "EPOCH 43 ...\n",
      "Validation Accuracy = 0.991\n",
      "\n",
      "EPOCH 44 ...\n",
      "Validation Accuracy = 0.989\n",
      "\n",
      "EPOCH 45 ...\n",
      "Validation Accuracy = 0.991\n",
      "\n",
      "EPOCH 46 ...\n",
      "Validation Accuracy = 0.990\n",
      "\n",
      "EPOCH 47 ...\n",
      "Validation Accuracy = 0.992\n",
      "\n",
      "EPOCH 48 ...\n",
      "Validation Accuracy = 0.992\n",
      "\n",
      "EPOCH 49 ...\n",
      "Validation Accuracy = 0.989\n",
      "\n",
      "EPOCH 50 ...\n",
      "Validation Accuracy = 0.990\n",
      "\n",
      "EPOCH 51 ...\n",
      "Validation Accuracy = 0.992\n",
      "\n",
      "EPOCH 52 ...\n",
      "Validation Accuracy = 0.992\n",
      "\n",
      "EPOCH 53 ...\n",
      "Validation Accuracy = 0.991\n",
      "\n",
      "EPOCH 54 ...\n",
      "Validation Accuracy = 0.991\n",
      "\n",
      "EPOCH 55 ...\n",
      "Validation Accuracy = 0.993\n",
      "\n",
      "EPOCH 56 ...\n",
      "Validation Accuracy = 0.993\n",
      "\n",
      "EPOCH 57 ...\n",
      "Validation Accuracy = 0.992\n",
      "\n",
      "EPOCH 58 ...\n",
      "Validation Accuracy = 0.992\n",
      "\n",
      "EPOCH 59 ...\n",
      "Validation Accuracy = 0.991\n",
      "\n",
      "EPOCH 60 ...\n",
      "Validation Accuracy = 0.991\n",
      "\n",
      "EPOCH 61 ...\n",
      "Validation Accuracy = 0.992\n",
      "\n",
      "EPOCH 62 ...\n",
      "Validation Accuracy = 0.992\n",
      "\n",
      "EPOCH 63 ...\n",
      "Validation Accuracy = 0.991\n",
      "\n",
      "EPOCH 64 ...\n",
      "Validation Accuracy = 0.993\n",
      "\n",
      "EPOCH 65 ...\n",
      "Validation Accuracy = 0.991\n",
      "\n",
      "EPOCH 66 ...\n",
      "Validation Accuracy = 0.991\n",
      "\n",
      "EPOCH 67 ...\n",
      "Validation Accuracy = 0.993\n",
      "\n",
      "EPOCH 68 ...\n",
      "Validation Accuracy = 0.993\n",
      "\n",
      "EPOCH 69 ...\n",
      "Validation Accuracy = 0.990\n",
      "\n",
      "EPOCH 70 ...\n",
      "Validation Accuracy = 0.993\n",
      "\n",
      "EPOCH 71 ...\n",
      "Validation Accuracy = 0.992\n",
      "\n",
      "EPOCH 72 ...\n",
      "Validation Accuracy = 0.992\n",
      "\n",
      "EPOCH 73 ...\n",
      "Validation Accuracy = 0.992\n",
      "\n",
      "EPOCH 74 ...\n",
      "Validation Accuracy = 0.992\n",
      "\n",
      "EPOCH 75 ...\n",
      "Validation Accuracy = 0.993\n",
      "\n",
      "EPOCH 76 ...\n",
      "Validation Accuracy = 0.992\n",
      "\n",
      "EPOCH 77 ...\n",
      "Validation Accuracy = 0.993\n",
      "\n",
      "EPOCH 78 ...\n",
      "Validation Accuracy = 0.990\n",
      "\n",
      "EPOCH 79 ...\n",
      "Validation Accuracy = 0.992\n",
      "\n",
      "EPOCH 80 ...\n",
      "Validation Accuracy = 0.992\n",
      "\n",
      "EPOCH 81 ...\n",
      "Validation Accuracy = 0.993\n",
      "\n",
      "EPOCH 82 ...\n",
      "Validation Accuracy = 0.992\n",
      "\n",
      "EPOCH 83 ...\n",
      "Validation Accuracy = 0.993\n",
      "\n",
      "EPOCH 84 ...\n",
      "Validation Accuracy = 0.992\n",
      "\n",
      "EPOCH 85 ...\n",
      "Validation Accuracy = 0.993\n",
      "\n",
      "EPOCH 86 ...\n",
      "Validation Accuracy = 0.991\n",
      "\n",
      "EPOCH 87 ...\n",
      "Validation Accuracy = 0.991\n",
      "\n",
      "EPOCH 88 ...\n",
      "Validation Accuracy = 0.993\n",
      "\n",
      "EPOCH 89 ...\n",
      "Validation Accuracy = 0.992\n",
      "\n",
      "EPOCH 90 ...\n",
      "Validation Accuracy = 0.992\n",
      "\n",
      "Model saved\n"
     ]
    }
   ],
   "source": [
    "with tf.Session() as sess:\n",
    "    sess.run(tf.global_variables_initializer())\n",
    "    num_examples = len(X_train)\n",
    "    \n",
    "    print(\"Start Training...\\n\")\n",
    "    for i in range(EPOCHS):\n",
    "        X_train, y_train = shuffle(X_train, y_train)\n",
    "        for offset in range(0, num_examples, BATCH_SIZE):\n",
    "            end = offset + BATCH_SIZE\n",
    "            batch_x, batch_y = X_train[offset:end], y_train[offset:end]\n",
    "            sess.run(training_operation, feed_dict={x: batch_x, y: batch_y, keep_prob: 0.5})\n",
    "            \n",
    "        validation_accuracy = evaluate(X_validation, y_validation)\n",
    "        print(\"EPOCH {} ...\".format(i+1))\n",
    "        print(\"Validation Accuracy = {:.3f}\\n\".format(validation_accuracy))\n",
    "        \n",
    "    saver.save(sess, 'lenet')\n",
    "    print(\"Model saved\")"
   ]
  },
  {
   "cell_type": "code",
   "execution_count": 19,
   "metadata": {
    "collapsed": false
   },
   "outputs": [
    {
     "name": "stdout",
     "output_type": "stream",
     "text": [
      "Test Set Accuracy = 0.946\n"
     ]
    }
   ],
   "source": [
    "# Now evaluate the accuracy of the model on the test dataset\n",
    "\n",
    "with tf.Session() as sess:\n",
    "    sess.run(tf.global_variables_initializer())\n",
    "    saver2 = tf.train.import_meta_graph('./lenet.meta')\n",
    "    saver2.restore(sess, \"./lenet\")\n",
    "    test_accuracy = evaluate(X_test_normalized, y_test)\n",
    "    print(\"Test Set Accuracy = {:.3f}\".format(test_accuracy))"
   ]
  },
  {
   "cell_type": "markdown",
   "metadata": {},
   "source": [
    "## Question 4\n",
    "How did you train your model? (Type of optimizer, batch size, epochs, hyperparameters, etc.)\n",
    "\n",
    "**Answer:**\n",
    "Parameters for training model are almost similar to LeNet lab. Following are details:\n",
    ". mu = 0 \n",
    ". sigma = 0.1 \n",
    ". batch size = 128 (power of 2) \n",
    ". epochs = 90 \n",
    ". learning rate = 0.001 \n",
    ". dropout rate = 0.5 \n",
    ". train size = 84.8% \n",
    ". validation size = 15.2% (1/SQRT(43)) \n",
    "\n",
    "## Question 5\n",
    "What approach did you take in coming up with a solution to this problem? It may have been a process of trial and error, in which case, outline the steps you took to get to the final solution and why you chose those steps. Perhaps your solution involved an already well known implementation or architecture. In this case, discuss why you think this is suitable for the current problem.\n",
    "\n",
    "**Answer:**\n",
    "I have started with Sermanet/LeCun model and had initial validation accuracy of ~96%. Lot of inputs are taken directly from class room exercies and LeNet lab. On top of Sermanet/LeCun model I made few changes which worked well. Following are learning and changes: \n",
    "- Validation size of 80:20(generally recommended) or 90:10 did not work well. Using (1/SQRT(43)) yeilded better results. 80:20 is just benchmark and will hold true most of the times with bigger datasets. Some trail and error to validate the theory. \n",
    "- No of epochs. I tried with epochs ranging from 20-60 with different learning rates and validation test sizes. Higher epochs did not improve accuracy. Settled with 90 \n",
    "- Adapting Sermanet/LeCun model I added two Fully connected layers in the end. One which converts from 800 to 240 and from 240 to 43 (final number of labels). Second FC layer only added minor improvement of ~0.2% but why not take it. \n",
    "- Dropouts. Did few trail and errors by adding and removing Dropouts. Also, some trail and error on dropout rates ranging from 0.4-0.7 but settled for 0.5. Adding dropouts before two FC layers improved accuracy by ~0.5% which was good. "
   ]
  },
  {
   "cell_type": "markdown",
   "metadata": {},
   "source": [
    "---\n",
    "\n",
    "## Step 3: Test a Model on New Images\n",
    "\n",
    "To give yourself more insight into how your model is working, download at least five pictures of German traffic signs from the web and use your model to predict the traffic sign type.\n",
    "\n",
    "You may find `signnames.csv` useful as it contains mappings from the class id (integer) to the actual sign name."
   ]
  },
  {
   "cell_type": "markdown",
   "metadata": {},
   "source": [
    "### Load and Output the Images"
   ]
  },
  {
   "cell_type": "code",
   "execution_count": 20,
   "metadata": {
    "collapsed": false,
    "scrolled": true
   },
   "outputs": [
    {
     "data": {
      "image/png": "[encoded data removed]",
      "text/plain": [
       "<matplotlib.figure.Figure at 0x11b01edd8>"
      ]
     },
     "metadata": {},
     "output_type": "display_data"
    }
   ],
   "source": [
    "### Load the images and plot them here.\n",
    "### Feel free to use as many code cells as needed.\n",
    "import cv2\n",
    "import glob\n",
    "import matplotlib.image as mpimg\n",
    "\n",
    "candidate_images = []\n",
    "candidate_labels = [24, 25, 27, 14, 40, 38, 3]\n",
    "figure, axis = plt.subplots(2,4, figsize=(8, 6))\n",
    "axis = axis.ravel()\n",
    "\n",
    "for index, img in enumerate(glob.glob(\"./random-traffic-signs-data/*.png\")):\n",
    "    image = cv2.imread(img)     \n",
    "    image = cv2.resize(image, (32, 32), interpolation = cv2.INTER_AREA)\n",
    "    axis[index].imshow(cv2.cvtColor(image, cv2.COLOR_BGR2RGB))\n",
    "    plt.axis(\"off\")\n",
    "    cv2.GaussianBlur(image, (5, 5), 0) #this did not help much\n",
    "    candidate_images.append(image)\n",
    "    \n",
    "candidate_images = np.asarray(candidate_images)\n",
    "candidate_image_normal = candidate_images\n",
    "\n",
    "images_gray = np.sum(candidate_images/3, axis=3, keepdims=True)\n",
    "candidate_images = (images_gray - 127)/128\n"
   ]
  },
  {
   "cell_type": "markdown",
   "metadata": {},
   "source": [
    "## Question 6\n",
    "Choose five candidate images of traffic signs and provide them in the report. Are there any particular qualities of the image(s) that might make classification difficult? It could be helpful to plot the images in the notebook.\n",
    "\n",
    "**Answer**\n"
   ]
  },
  {
   "cell_type": "code",
   "execution_count": 21,
   "metadata": {
    "collapsed": false
   },
   "outputs": [
    {
     "data": {
      "image/png": "[encoded data removed]",
      "text/plain": [
       "<matplotlib.figure.Figure at 0x11b017c50>"
      ]
     },
     "metadata": {},
     "output_type": "display_data"
    }
   ],
   "source": [
    "candidate_images_difficult = []\n",
    "\n",
    "figure, axis = plt.subplots(2,3, figsize=(8, 6))\n",
    "axis = axis.ravel()\n",
    "\n",
    "for index,img in enumerate(glob.glob(\"./random-traffic-signs-data_diff/*.*\")):\n",
    "    image_difficult = cv2.imread(img)\n",
    "    plt.axis(\"off\")\n",
    "    axis[index].imshow(cv2.cvtColor(image_difficult, cv2.COLOR_BGR2RGB))"
   ]
  },
  {
   "cell_type": "code",
   "execution_count": 22,
   "metadata": {
    "collapsed": false
   },
   "outputs": [
    {
     "name": "stdout",
     "output_type": "stream",
     "text": [
      "Test Set Accuracy on cadidate images = 0.714\n"
     ]
    }
   ],
   "source": [
    "### Run the predictions here.\n",
    "### Feel free to use as many code cells as needed.\n",
    "from numpy import array\n",
    "\n",
    "with tf.Session() as sess:\n",
    "    sess.run(tf.global_variables_initializer())\n",
    "    saver3 = tf.train.import_meta_graph('./lenet.meta')\n",
    "    saver3.restore(sess, \"./lenet\")\n",
    "    candidate_image_accuracy = evaluate(candidate_images, candidate_labels)\n",
    "    print(\"Test Set Accuracy on cadidate images = {:.3f}\".format(candidate_image_accuracy))"
   ]
  },
  {
   "cell_type": "markdown",
   "metadata": {},
   "source": [
    "## Question 7\n",
    "Is your model able to perform equally well on captured pictures when compared to testing on the dataset? The simplest way to do this check the accuracy of the predictions. For example, if the model predicted 1 out of 5 signs correctly, it's 20% accurate.\n",
    "**NOTE:** You could check the accuracy manually by using signnames.csv (same directory). This file has a mapping from the class id (0-42) to the corresponding sign name. So, you could take the class id the model outputs, lookup the name in signnames.csv and see if it matches the sign from the image.\n",
    "**Answer:**\n",
    "Some of the images I captured were images with plain background, clear traffic sign covering entire image with good angle. Accuracy on these images was close to 100%. \n",
    "To test model I replaced images with less clarity and with lot of background noise (tree, mountains etc) and traffic sign width in image. Noisy images are plotted above. Doing this reduced the accuracy to 71.4%.\n",
    "Solution to improve accuracy: To improve the accuracy of the model data augmentation should be implemented on training data. Several classes in the data have fewer examples(graph plotted on the top) which resulted in bias.\n"
   ]
  },
  {
   "cell_type": "markdown",
   "metadata": {},
   "source": [
    "### Predict the Sign Type for Each Image"
   ]
  },
  {
   "cell_type": "code",
   "execution_count": 23,
   "metadata": {
    "collapsed": false
   },
   "outputs": [
    {
     "name": "stdout",
     "output_type": "stream",
     "text": [
      "TopKV2(values=array([[  9.99992132e-01,   7.85762131e-06,   4.37424639e-08],\n",
      "       [  1.00000000e+00,   1.86693940e-18,   7.57078126e-29],\n",
      "       [  9.80924785e-01,   1.90752242e-02,   1.47615481e-13],\n",
      "       [  9.95468616e-01,   3.20211262e-03,   1.12505595e-03],\n",
      "       [  9.58218753e-01,   4.17713262e-02,   7.80499704e-06],\n",
      "       [  1.00000000e+00,   4.20654201e-24,   1.59961566e-25],\n",
      "       [  1.00000000e+00,   9.24224342e-09,   9.11067277e-10]], dtype=float32), indices=array([[24, 21, 19],\n",
      "       [25, 20, 27],\n",
      "       [11, 27, 18],\n",
      "       [14,  2,  5],\n",
      "       [40, 11, 12],\n",
      "       [38, 25, 18],\n",
      "       [ 2,  3,  1]], dtype=int32))\n"
     ]
    },
    {
     "data": {
      "image/png": "[encoded data removed]",
      "text/plain": [
       "<matplotlib.figure.Figure at 0x11b1b7208>"
      ]
     },
     "metadata": {},
     "output_type": "display_data"
    }
   ],
   "source": [
    "### Run the predictions here and use the model to output the prediction for each image.\n",
    "### Make sure to pre-process the images with the same pre-processing pipeline used earlier.\n",
    "### Feel free to use as many code cells as needed.\n",
    "softmax_logits = tf.nn.softmax(logits)\n",
    "top_k = tf.nn.top_k(softmax_logits, k=3)\n",
    "pridected_guess = []\n",
    "# Get top probabilities and indices for candidate images\n",
    "with tf.Session() as sess:\n",
    "    sess.run(tf.global_variables_initializer())\n",
    "    saver = tf.train.import_meta_graph('./lenet.meta')\n",
    "    saver.restore(sess, \"./lenet\")\n",
    "    my_top_k = sess.run(top_k, feed_dict={x: candidate_images, keep_prob: 1.0})\n",
    "    print(my_top_k)\n",
    "\n",
    "    # Plot the images\n",
    "    figure, axis = plt.subplots(len(candidate_images),2, figsize=(12, 14))\n",
    "    axis = axis.ravel()\n",
    "\n",
    "    # Model top predictions\n",
    "    for i, image in enumerate(candidate_image_normal):\n",
    "        axis[2*i].axis('off')\n",
    "        axis[2*i].imshow(cv2.cvtColor(image, cv2.COLOR_BGR2RGB))\n",
    "        \n",
    "        axis[2*i].set_title('Input image')\n",
    "        guess1 = my_top_k[1][i][0]\n",
    "        index1 = np.argwhere(y_validation == guess1)[0]\n",
    "        axis[2*i+1].axis('off')\n",
    "        axis[2*i+1].imshow(X_validation[index1].squeeze(), cmap='gray')\n",
    "        pridected_guess.append(guess1)\n",
    "        \n",
    "        axis[2*i+1].set_title('Guess Image: {} ({:.0f}%)'.format(guess1, 100*my_top_k[0][i][0]))"
   ]
  },
  {
   "cell_type": "markdown",
   "metadata": {},
   "source": [
    "### Analyze Performance"
   ]
  },
  {
   "cell_type": "code",
   "execution_count": 24,
   "metadata": {
    "collapsed": false
   },
   "outputs": [
    {
     "name": "stdout",
     "output_type": "stream",
     "text": [
      "Accuracy of predicted images 71%\n"
     ]
    }
   ],
   "source": [
    "### Calculate the accuracy for these 5 new images. \n",
    "### For example, if the model predicted 1 out of 5 signs correctly, it's 20% accurate on these new images.\n",
    "import numpy as np\n",
    "correct_lables = np.intersect1d(pridected_guess, candidate_labels)\n",
    "print('Accuracy of predicted images {:.0f}%'.format((len(correct_lables) * 100)/ len(pridected_guess)))"
   ]
  },
  {
   "cell_type": "code",
   "execution_count": 25,
   "metadata": {
    "collapsed": false
   },
   "outputs": [
    {
     "name": "stdout",
     "output_type": "stream",
     "text": [
      "[[24 21 19]\n",
      " [25 20 27]\n",
      " [11 27 18]\n",
      " [14  2  5]\n",
      " [40 11 12]\n",
      " [38 25 18]\n",
      " [ 2  3  1]]\n"
     ]
    },
    {
     "data": {
      "image/png": "[encoded data removed]",
      "text/plain": [
       "<matplotlib.figure.Figure at 0x11acf33c8>"
      ]
     },
     "metadata": {},
     "output_type": "display_data"
    },
    {
     "data": {
      "image/png": "[encoded data removed]",
      "text/plain": [
       "<matplotlib.figure.Figure at 0x11d02d400>"
      ]
     },
     "metadata": {},
     "output_type": "display_data"
    },
    {
     "data": {
      "image/png": "[encoded data removed]",
      "text/plain": [
       "<matplotlib.figure.Figure at 0x11d1e1898>"
      ]
     },
     "metadata": {},
     "output_type": "display_data"
    },
    {
     "data": {
      "image/png": "[encoded data removed]",
      "text/plain": [
       "<matplotlib.figure.Figure at 0x11d6dde48>"
      ]
     },
     "metadata": {},
     "output_type": "display_data"
    },
    {
     "data": {
      "image/png": "[encoded data removed]",
      "text/plain": [
       "<matplotlib.figure.Figure at 0x11d711828>"
      ]
     },
     "metadata": {},
     "output_type": "display_data"
    },
    {
     "data": {
      "image/png": "[encoded data removed]",
      "text/plain": [
       "<matplotlib.figure.Figure at 0x11d753c18>"
      ]
     },
     "metadata": {},
     "output_type": "display_data"
    },
    {
     "data": {
      "image/png": "[encoded data removed]",
      "text/plain": [
       "<matplotlib.figure.Figure at 0x11d79ef98>"
      ]
     },
     "metadata": {},
     "output_type": "display_data"
    }
   ],
   "source": [
    "### Print out the top five softmax probabilities for the predictions on the German traffic sign images found on the web. \n",
    "### Feel free to use as many code cells as needed.\n",
    "\n",
    "my_top_values = my_top_k.values\n",
    "my_top_indices = my_top_k.indices\n",
    "\n",
    "print(my_top_indices)\n",
    "\n",
    "for index, vals_array in enumerate(my_top_values):\n",
    "    y = vals_array\n",
    "    x = my_top_indices[index][:]\n",
    "    fig = plt.figure()    \n",
    "    plt.bar(x, y, color=\"green\")\n",
    "    plt.axis([0, 42, 0, 1])"
   ]
  },
  {
   "cell_type": "markdown",
   "metadata": {},
   "source": [
    "### Output Top 5 Softmax Probabilities For Each Image Found on the Web"
   ]
  },
  {
   "cell_type": "markdown",
   "metadata": {},
   "source": [
    "For each of the new images, print out the model's softmax probabilities to show the **certainty** of the model's predictions (limit the output to the top 5 probabilities for each image). [`tf.nn.top_k`](https://www.tensorflow.org/versions/r0.12/api_docs/python/nn.html#top_k) could prove helpful here. \n",
    "\n",
    "The example below demonstrates how tf.nn.top_k can be used to find the top k predictions for each image.\n",
    "\n",
    "`tf.nn.top_k` will return the values and indices (class ids) of the top k predictions. So if k=3, for each sign, it'll return the 3 largest probabilities (out of a possible 43) and the correspoding class ids.\n",
    "\n",
    "Take this numpy array as an example. The values in the array represent predictions. The array contains softmax probabilities for five candidate images with six possible classes. `tk.nn.top_k` is used to choose the three classes with the highest probability:\n",
    "\n",
    "```\n",
    "# (5, 6) array\n",
    "a = np.array([[ 0.24879643,  0.07032244,  0.12641572,  0.34763842,  0.07893497,\n",
    "         0.12789202],\n",
    "       [ 0.28086119,  0.27569815,  0.08594638,  0.0178669 ,  0.18063401,\n",
    "         0.15899337],\n",
    "       [ 0.26076848,  0.23664738,  0.08020603,  0.07001922,  0.1134371 ,\n",
    "         0.23892179],\n",
    "       [ 0.11943333,  0.29198961,  0.02605103,  0.26234032,  0.1351348 ,\n",
    "         0.16505091],\n",
    "       [ 0.09561176,  0.34396535,  0.0643941 ,  0.16240774,  0.24206137,\n",
    "         0.09155967]])\n",
    "```\n",
    "\n",
    "Running it through `sess.run(tf.nn.top_k(tf.constant(a), k=3))` produces:\n",
    "\n",
    "```\n",
    "TopKV2(values=array([[ 0.34763842,  0.24879643,  0.12789202],\n",
    "       [ 0.28086119,  0.27569815,  0.18063401],\n",
    "       [ 0.26076848,  0.23892179,  0.23664738],\n",
    "       [ 0.29198961,  0.26234032,  0.16505091],\n",
    "       [ 0.34396535,  0.24206137,  0.16240774]]), indices=array([[3, 0, 5],\n",
    "       [0, 1, 4],\n",
    "       [0, 5, 1],\n",
    "       [1, 3, 5],\n",
    "       [1, 4, 3]], dtype=int32))\n",
    "```\n",
    "\n",
    "Looking just at the first row we get `[ 0.34763842,  0.24879643,  0.12789202]`, you can confirm these are the 3 largest probabilities in `a`. You'll also notice `[3, 0, 5]` are the corresponding indices.\n",
    "\n",
    "**Answer:**\n",
    "Candiate images and predictions are plotted above. \n",
    "For most of the cases(5 out of 7) on candidate images, model is certain in first guess. \n",
    "If guess is incorrect on initial prediction it is not able to make correct prediction in top 3 most of the times. \n",
    "Overall on small dataset of images I got 71.4% of accuracy. \n"
   ]
  },
  {
   "cell_type": "markdown",
   "metadata": {},
   "source": [
    "---\n",
    "\n",
    "## Step 4: Visualize the Neural Network's State with Test Images\n",
    "\n",
    " This Section is not required to complete but acts as an additional excersise for understaning the output of a neural network's weights. While neural networks can be a great learning device they are often referred to as a black box. We can understand what the weights of a neural network look like better by plotting their feature maps. After successfully training your neural network you can see what it's feature maps look like by plotting the output of the network's weight layers in response to a test stimuli image. From these plotted feature maps, it's possible to see what characteristics of an image the network finds interesting. For a sign, maybe the inner network feature maps react with high activation to the sign's boundary outline or to the contrast in the sign's painted symbol.\n",
    "\n",
    " Provided for you below is the function code that allows you to get the visualization output of any tensorflow weight layer you want. The inputs to the function should be a stimuli image, one used during training or a new one you provided, and then the tensorflow variable name that represents the layer's state during the training process, for instance if you wanted to see what the [LeNet lab's](https://classroom.udacity.com/nanodegrees/nd013/parts/fbf77062-5703-404e-b60c-95b78b2f3f9e/modules/6df7ae49-c61c-4bb2-a23e-6527e69209ec/lessons/601ae704-1035-4287-8b11-e2c2716217ad/concepts/d4aca031-508f-4e0b-b493-e7b706120f81) feature maps looked like for it's second convolutional layer you could enter conv2 as the tf_activation variable.\n",
    "\n",
    "For an example of what feature map outputs look like, check out NVIDIA's results in their paper [End-to-End Deep Learning for Self-Driving Cars](https://devblogs.nvidia.com/parallelforall/deep-learning-self-driving-cars/) in the section Visualization of internal CNN State. NVIDIA was able to show that their network's inner weights had high activations to road boundary lines by comparing feature maps from an image with a clear path to one without. Try experimenting with a similar test to show that your trained network's weights are looking for interesting features, whether it's looking at differences in feature maps from images with or without a sign, or even what feature maps look like in a trained network vs a completely untrained one on the same sign image.\n",
    "\n",
    "<figure>\n",
    " <img src=\"visualize_cnn.png\" width=\"380\" alt=\"Combined Image\" />\n",
    " <figcaption>\n",
    " <p></p> \n",
    " <p style=\"text-align: center;\"> Your output should look something like this (above)</p> \n",
    " </figcaption>\n",
    "</figure>\n",
    " <p></p> \n"
   ]
  },
  {
   "cell_type": "code",
   "execution_count": null,
   "metadata": {
    "collapsed": true
   },
   "outputs": [],
   "source": [
    "### Visualize your network's feature maps here.\n",
    "### Feel free to use as many code cells as needed.\n",
    "\n",
    "# image_input: the test image being fed into the network to produce the feature maps\n",
    "# tf_activation: should be a tf variable name used during your training procedure that represents the calculated state of a specific weight layer\n",
    "# activation_min/max: can be used to view the activation contrast in more detail, by default matplot sets min and max to the actual min and max values of the output\n",
    "# plt_num: used to plot out multiple different weight feature map sets on the same block, just extend the plt number for each new feature map entry\n",
    "\n",
    "def outputFeatureMap(image_input, tf_activation, activation_min=-1, activation_max=-1 ,plt_num=1):\n",
    "    # Here make sure to preprocess your image_input in a way your network expects\n",
    "    # with size, normalization, ect if needed\n",
    "    # image_input =\n",
    "    # Note: x should be the same name as your network's tensorflow data placeholder variable\n",
    "    # If you get an error tf_activation is not defined it maybe having trouble accessing the variable from inside a function\n",
    "    activation = tf_activation.eval(session=sess,feed_dict={x : image_input})\n",
    "    featuremaps = activation.shape[3]\n",
    "    plt.figure(plt_num, figsize=(15,15))\n",
    "    for featuremap in range(featuremaps):\n",
    "        plt.subplot(6,8, featuremap+1) # sets the number of feature maps to show on each row and column\n",
    "        plt.title('FeatureMap ' + str(featuremap)) # displays the feature map number\n",
    "        if activation_min != -1 & activation_max != -1:\n",
    "            plt.imshow(activation[0,:,:, featuremap], interpolation=\"nearest\", vmin =activation_min, vmax=activation_max, cmap=\"gray\")\n",
    "        elif activation_max != -1:\n",
    "            plt.imshow(activation[0,:,:, featuremap], interpolation=\"nearest\", vmax=activation_max, cmap=\"gray\")\n",
    "        elif activation_min !=-1:\n",
    "            plt.imshow(activation[0,:,:, featuremap], interpolation=\"nearest\", vmin=activation_min, cmap=\"gray\")\n",
    "        else:\n",
    "            plt.imshow(activation[0,:,:, featuremap], interpolation=\"nearest\", cmap=\"gray\")"
   ]
  },
  {
   "cell_type": "markdown",
   "metadata": {},
   "source": [
    "### Question 9\n",
    "\n",
    "Discuss how you used the visual output of your trained network's feature maps to show that it had learned to look for interesting characteristics in traffic sign images\n"
   ]
  },
  {
   "cell_type": "markdown",
   "metadata": {},
   "source": [
    "**Answer:**"
   ]
  },
  {
   "cell_type": "markdown",
   "metadata": {},
   "source": [
    "> **Note**: Once you have completed all of the code implementations and successfully answered each question above, you may finalize your work by exporting the iPython Notebook as an HTML document. You can do this by using the menu above and navigating to  \\n\",\n",
    "    \"**File -> Download as -> HTML (.html)**. Include the finished document along with this notebook as your submission."
   ]
  },
  {
   "cell_type": "markdown",
   "metadata": {},
   "source": [
    "### Project Writeup\n",
    "\n",
    "Once you have completed the code implementation, document your results in a project writeup using this [template](https://github.com/udacity/CarND-Traffic-Sign-Classifier-Project/blob/master/writeup_template.md) as a guide. The writeup can be in a markdown or pdf file. "
   ]
  }
 ],
 "metadata": {
  "anaconda-cloud": {},
  "kernelspec": {
   "display_name": "Python 3",
   "language": "python",
   "name": "python3"
  },
  "language_info": {
   "codemirror_mode": {
    "name": "ipython",
    "version": 3
   },
   "file_extension": ".py",
   "mimetype": "text/x-python",
   "name": "python",
   "nbconvert_exporter": "python",
   "pygments_lexer": "ipython3",
   "version": "3.5.2"
  },
  "widgets": {
   "state": {},
   "version": "1.1.2"
  }
 },
 "nbformat": 4,
 "nbformat_minor": 1
}
